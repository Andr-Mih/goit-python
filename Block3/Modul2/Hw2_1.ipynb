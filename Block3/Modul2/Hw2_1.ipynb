{
  "nbformat": 4,
  "nbformat_minor": 0,
  "metadata": {
    "colab": {
      "name": "Hw2_1.ipynb",
      "provenance": [],
      "collapsed_sections": []
    },
    "kernelspec": {
      "name": "python3",
      "display_name": "Python 3"
    },
    "language_info": {
      "name": "python"
    }
  },
  "cells": [
    {
      "cell_type": "code",
      "metadata": {
        "id": "rsyt6PhjadVi"
      },
      "source": [
        "import pandas as pd\n",
        "import numpy as np"
      ],
      "execution_count": null,
      "outputs": []
    },
    {
      "cell_type": "code",
      "metadata": {
        "id": "UbN55pz-a087"
      },
      "source": [
        "tmp = pd.read_html('https://uk.m.wikipedia.org/wiki/%D0%9D%D0%B0%D1%81%D0%B5%D0%BB%D0%B5%D0%BD%D0%BD%D1%8F_%D0%A3%D0%BA%D1%80%D0%B0%D1%97%D0%BD%D0%B8#%D0%9D%D0%B0%D1%80%D0%BE%D0%B4%D0%B6%D1%83%D0%B2%D0%B0%D0%BD%D1%96%D1%81%D1%82%D1%8C',  match= 'Коефіцієнт народжуваності в регіонах')"
      ],
      "execution_count": null,
      "outputs": []
    },
    {
      "cell_type": "code",
      "metadata": {
        "colab": {
          "base_uri": "https://localhost:8080/"
        },
        "id": "yC5sMbjrcA3M",
        "outputId": "8833e67b-dfcb-41ee-b20c-42f659584153"
      },
      "source": [
        "print(tmp[0].shape)\n",
        "print(tmp[0].head(3))\n",
        "tmp[0].replace('—', np.nan, inplace = True)\n",
        "tmp[0].drop(27, inplace = True)\n",
        "print(tmp[0].dtypes)\n",
        "tmp = tmp[0].astype({'2014': np.float64})\n",
        "print(tmp.dtypes)\n",
        "tmp = tmp.astype({'2019': np.float64})\n",
        "print(tmp.dtypes)\n",
        "for i in tmp:\n",
        "    if i == 'Регіон':\n",
        "        continue\n",
        "    else:\n",
        "        tmp.fillna({i :tmp[i].mean()}, inplace= True)\n",
        "#print(tmp)\n",
        "print(tmp[tmp['2019'] > tmp['2019'].mean()])\n",
        "print(tmp[tmp['2014'] == tmp['2014'].max()])"
      ],
      "execution_count": null,
      "outputs": [
        {
          "output_type": "stream",
          "name": "stdout",
          "text": [
            "(28, 9)\n",
            "      Регіон   1950   1960   1970  1990  2000  2012 2014 2019\n",
            "0       Крим  230.0  206.0  160.0   130    73   126    —    —\n",
            "1  Вінницька  224.0  192.0  142.0   124    84   112  109   76\n",
            "2  Волинська  247.0  250.0  179.0   153   112   148  141  101\n",
            "Регіон     object\n",
            "1950      float64\n",
            "1960      float64\n",
            "1970      float64\n",
            "1990        int64\n",
            "2000        int64\n",
            "2012        int64\n",
            "2014       object\n",
            "2019       object\n",
            "dtype: object\n",
            "Регіон     object\n",
            "1950      float64\n",
            "1960      float64\n",
            "1970      float64\n",
            "1990        int64\n",
            "2000        int64\n",
            "2012        int64\n",
            "2014      float64\n",
            "2019       object\n",
            "dtype: object\n",
            "Регіон     object\n",
            "1950      float64\n",
            "1960      float64\n",
            "1970      float64\n",
            "1990        int64\n",
            "2000        int64\n",
            "2012        int64\n",
            "2014      float64\n",
            "2019      float64\n",
            "dtype: object\n",
            "               Регіон    1950   1960   1970  1990  2000  2012   2014   2019\n",
            "2           Волинська  247.00  250.0  179.0   153   112   148  141.0  101.0\n",
            "6        Закарпатська  314.00  273.0  207.0   168   115   151  146.0  104.0\n",
            "8   Івано-Франківська  243.00  248.0  182.0   155   103   124  122.0   88.0\n",
            "12          Львівська  234.00  240.0  171.0   140    91   119  119.0   87.0\n",
            "14            Одеська  241.00  192.0  148.0   126    80   127  123.0   88.0\n",
            "16         Рівненська  269.00  267.0  193.0   158   118   159  148.0  107.0\n",
            "20         Херсонська  208.00  214.0  166.0   143    85   117  115.0   81.0\n",
            "23        Чернівецька  247.00  218.0  170.0   148   101   128  129.0   92.0\n",
            "25               Київ  231.04  174.0  159.0   120    73   120  121.0  110.0\n",
            "        Регіон   1950   1960   1970  1990  2000  2012   2014   2019\n",
            "16  Рівненська  269.0  267.0  193.0   158   118   159  148.0  107.0\n"
          ]
        }
      ]
    }
  ]
}